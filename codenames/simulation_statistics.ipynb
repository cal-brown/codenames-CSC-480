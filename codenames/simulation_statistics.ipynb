{
 "cells": [
  {
   "cell_type": "code",
   "execution_count": 28,
   "id": "06d6626f",
   "metadata": {},
   "outputs": [],
   "source": [
    "import subprocess\n",
    "import json\n",
    "import pandas as pd\n",
    "import numpy as np"
   ]
  },
  {
   "cell_type": "code",
   "execution_count": 29,
   "id": "3540f187",
   "metadata": {},
   "outputs": [],
   "source": [
    "codemasters = [\"codemaster_glove_07\",\"codemaster_w2v_07\",\\\n",
    "                   \"codemaster_glove_07_adversary\",\"codemaster_w2v_07_adversary\"]\n",
    "cm_guessers = {\"codemaster_glove_07\":\"guesser_glove\",\\\n",
    "                   \"codemaster_glove_07_adversary\":\"guesser_glove\",\\\n",
    "                   \"codemaster_w2v_07\":\"guesser_w2v\",\\\n",
    "                   \"codemaster_w2v_07_adversary\":\"guesser_w2v\"}"
   ]
  },
  {
   "cell_type": "code",
   "execution_count": 30,
   "id": "cc324907",
   "metadata": {},
   "outputs": [],
   "source": [
    "class Result:\n",
    "    def __init__(self):\n",
    "        self.total = 0\n",
    "        self.blue = 0\n",
    "        self.red = 0\n",
    "        self.wins = []\n",
    "    \n",
    "    def record_win(self, color, num_rounds):\n",
    "        self.total += 1\n",
    "        if color == \"Blue\":\n",
    "            self.blue += 1\n",
    "        else:\n",
    "            self.red += 1\n",
    "        self.wins.append((color, num_rounds))\n",
    "            \n",
    "    def __repr__(self):\n",
    "        return f\"Total: {self.total} Red Wins: {self.red} Blue Wins: {self.blue}\""
   ]
  },
  {
   "cell_type": "code",
   "execution_count": 31,
   "id": "e61776da",
   "metadata": {},
   "outputs": [
    {
     "name": "stdout",
     "output_type": "stream",
     "text": [
      "(('codemaster_glove_07', 'codemaster_w2v_07'), Total: 11 Red Wins: 11 Blue Wins: 0)\n",
      "(('codemaster_glove_07', 'codemaster_glove_07_adversary'), Total: 11 Red Wins: 7 Blue Wins: 4)\n",
      "(('codemaster_glove_07', 'codemaster_w2v_07_adversary'), Total: 11 Red Wins: 3 Blue Wins: 8)\n",
      "(('codemaster_w2v_07', 'codemaster_glove_07'), Total: 11 Red Wins: 0 Blue Wins: 11)\n",
      "(('codemaster_w2v_07', 'codemaster_glove_07_adversary'), Total: 11 Red Wins: 0 Blue Wins: 11)\n",
      "(('codemaster_w2v_07', 'codemaster_w2v_07_adversary'), Total: 11 Red Wins: 0 Blue Wins: 11)\n",
      "(('codemaster_glove_07_adversary', 'codemaster_glove_07'), Total: 11 Red Wins: 11 Blue Wins: 0)\n",
      "(('codemaster_glove_07_adversary', 'codemaster_w2v_07'), Total: 11 Red Wins: 11 Blue Wins: 0)\n",
      "(('codemaster_glove_07_adversary', 'codemaster_w2v_07_adversary'), Total: 11 Red Wins: 11 Blue Wins: 0)\n",
      "(('codemaster_w2v_07_adversary', 'codemaster_glove_07'), Total: 11 Red Wins: 11 Blue Wins: 0)\n",
      "(('codemaster_w2v_07_adversary', 'codemaster_w2v_07'), Total: 11 Red Wins: 11 Blue Wins: 0)\n",
      "(('codemaster_w2v_07_adversary', 'codemaster_glove_07_adversary'), Total: 11 Red Wins: 11 Blue Wins: 0)\n",
      "\n"
     ]
    }
   ],
   "source": [
    "results = {}\n",
    "for cm1 in codemasters:\n",
    "    for cm2 in codemasters:\n",
    "        if cm1 != cm2:\n",
    "            results[(cm1,cm2)] = Result()\n",
    "with open(\"results/combined_results.txt\", \"r\") as f:\n",
    "    line = f.readline()\n",
    "    while line:\n",
    "        results_dict = json.loads(line)\n",
    "        red_cm = results_dict[\"red_codemaster\"]\n",
    "        blue_cm = results_dict[\"blue_codemaster\"]\n",
    "        results[(red_cm, blue_cm)].record_win(results_dict[\"winner\"], results_dict[\"total_turns\"])\n",
    "        line = f.readline()\n",
    "res = \"\"\n",
    "for i in list(results.items()):\n",
    "    res += str(i) + \"\\n\"\n",
    "print(res)"
   ]
  },
  {
   "cell_type": "code",
   "execution_count": 36,
   "id": "6b98d393",
   "metadata": {},
   "outputs": [
    {
     "data": {
      "text/html": [
       "<div>\n",
       "<style scoped>\n",
       "    .dataframe tbody tr th:only-of-type {\n",
       "        vertical-align: middle;\n",
       "    }\n",
       "\n",
       "    .dataframe tbody tr th {\n",
       "        vertical-align: top;\n",
       "    }\n",
       "\n",
       "    .dataframe thead th {\n",
       "        text-align: right;\n",
       "    }\n",
       "</style>\n",
       "<table border=\"1\" class=\"dataframe\">\n",
       "  <thead>\n",
       "    <tr style=\"text-align: right;\">\n",
       "      <th></th>\n",
       "      <th>codemaster_glove_07</th>\n",
       "      <th>codemaster_w2v_07</th>\n",
       "      <th>codemaster_glove_07_adversary</th>\n",
       "      <th>codemaster_w2v_07_adversary</th>\n",
       "    </tr>\n",
       "  </thead>\n",
       "  <tbody>\n",
       "    <tr>\n",
       "      <th>codemaster_glove_07</th>\n",
       "      <td>NaN</td>\n",
       "      <td>(0, 11)</td>\n",
       "      <td>(11, 0)</td>\n",
       "      <td>(11, 0)</td>\n",
       "    </tr>\n",
       "    <tr>\n",
       "      <th>codemaster_w2v_07</th>\n",
       "      <td>(11, 0)</td>\n",
       "      <td>NaN</td>\n",
       "      <td>(11, 0)</td>\n",
       "      <td>(11, 0)</td>\n",
       "    </tr>\n",
       "    <tr>\n",
       "      <th>codemaster_glove_07_adversary</th>\n",
       "      <td>(7, 4)</td>\n",
       "      <td>(0, 11)</td>\n",
       "      <td>NaN</td>\n",
       "      <td>(11, 0)</td>\n",
       "    </tr>\n",
       "    <tr>\n",
       "      <th>codemaster_w2v_07_adversary</th>\n",
       "      <td>(3, 8)</td>\n",
       "      <td>(0, 11)</td>\n",
       "      <td>(11, 0)</td>\n",
       "      <td>NaN</td>\n",
       "    </tr>\n",
       "  </tbody>\n",
       "</table>\n",
       "</div>"
      ],
      "text/plain": [
       "                              codemaster_glove_07 codemaster_w2v_07  \\\n",
       "codemaster_glove_07                           NaN           (0, 11)   \n",
       "codemaster_w2v_07                         (11, 0)               NaN   \n",
       "codemaster_glove_07_adversary              (7, 4)           (0, 11)   \n",
       "codemaster_w2v_07_adversary                (3, 8)           (0, 11)   \n",
       "\n",
       "                              codemaster_glove_07_adversary  \\\n",
       "codemaster_glove_07                                 (11, 0)   \n",
       "codemaster_w2v_07                                   (11, 0)   \n",
       "codemaster_glove_07_adversary                           NaN   \n",
       "codemaster_w2v_07_adversary                         (11, 0)   \n",
       "\n",
       "                              codemaster_w2v_07_adversary  \n",
       "codemaster_glove_07                               (11, 0)  \n",
       "codemaster_w2v_07                                 (11, 0)  \n",
       "codemaster_glove_07_adversary                     (11, 0)  \n",
       "codemaster_w2v_07_adversary                           NaN  "
      ]
     },
     "execution_count": 36,
     "metadata": {},
     "output_type": "execute_result"
    }
   ],
   "source": [
    "winning_matrix = pd.DataFrame(index=codemasters, columns=codemasters)\n",
    "winning_time = {cm: [] for cm in codemasters}\n",
    "for (cm1, cm2) in results.keys():\n",
    "    result = results[(cm1, cm2)]\n",
    "    winning_matrix[cm1][cm2] = (result.red, result.blue)\n",
    "    for win in result.wins:\n",
    "        if win[0] == \"Red\":\n",
    "            winning_time[cm1].append(win[1])\n",
    "        else:\n",
    "            winning_time[cm2].append(win[1])\n",
    "winning_matrix"
   ]
  },
  {
   "cell_type": "code",
   "execution_count": null,
   "id": "df52a85e",
   "metadata": {},
   "outputs": [],
   "source": []
  },
  {
   "cell_type": "code",
   "execution_count": 35,
   "id": "0a26b8b8",
   "metadata": {},
   "outputs": [
    {
     "name": "stdout",
     "output_type": "stream",
     "text": [
      "red winning percentage: 0.6590909090909091\n",
      "blue winning percentage: 0.3409090909090909\n",
      "132\n"
     ]
    }
   ],
   "source": [
    "reds = 0\n",
    "blues = 0\n",
    "total = 0\n",
    "for r in results.values():\n",
    "    reds += r.red\n",
    "    blues += r.blue\n",
    "    total += r.total\n",
    "print(f\"red winning percentage: {reds/total}\")\n",
    "print(f\"blue winning percentage: {blues/total}\")\n",
    "print(total)"
   ]
  },
  {
   "cell_type": "code",
   "execution_count": 34,
   "id": "534ada6b",
   "metadata": {},
   "outputs": [
    {
     "name": "stderr",
     "output_type": "stream",
     "text": [
      "/Users/calvinbrown/opt/anaconda3/lib/python3.8/site-packages/numpy/core/fromnumeric.py:3419: RuntimeWarning: Mean of empty slice.\n",
      "  return _methods._mean(a, axis=axis, dtype=dtype,\n",
      "/Users/calvinbrown/opt/anaconda3/lib/python3.8/site-packages/numpy/core/_methods.py:188: RuntimeWarning: invalid value encountered in double_scalars\n",
      "  ret = ret.dtype.type(ret / rcount)\n"
     ]
    },
    {
     "data": {
      "text/plain": [
       "{'codemaster_glove_07': 5.84375,\n",
       " 'codemaster_w2v_07': nan,\n",
       " 'codemaster_glove_07_adversary': 5.354166666666667,\n",
       " 'codemaster_w2v_07_adversary': 5.365384615384615}"
      ]
     },
     "execution_count": 34,
     "metadata": {},
     "output_type": "execute_result"
    }
   ],
   "source": [
    "{k: np.mean(v) for k,v in winning_time.items()}"
   ]
  },
  {
   "cell_type": "code",
   "execution_count": null,
   "id": "1dc9dc90",
   "metadata": {},
   "outputs": [],
   "source": []
  },
  {
   "cell_type": "code",
   "execution_count": 3,
   "id": "0abb365d",
   "metadata": {},
   "outputs": [
    {
     "data": {
      "text/plain": [
       "float"
      ]
     },
     "execution_count": 3,
     "metadata": {},
     "output_type": "execute_result"
    }
   ],
   "source": [
    "type(np.inf)"
   ]
  },
  {
   "cell_type": "code",
   "execution_count": null,
   "id": "163f00d0",
   "metadata": {},
   "outputs": [],
   "source": []
  }
 ],
 "metadata": {
  "kernelspec": {
   "display_name": "Python 3",
   "language": "python",
   "name": "python3"
  },
  "language_info": {
   "codemirror_mode": {
    "name": "ipython",
    "version": 3
   },
   "file_extension": ".py",
   "mimetype": "text/x-python",
   "name": "python",
   "nbconvert_exporter": "python",
   "pygments_lexer": "ipython3",
   "version": "3.8.8"
  }
 },
 "nbformat": 4,
 "nbformat_minor": 5
}
