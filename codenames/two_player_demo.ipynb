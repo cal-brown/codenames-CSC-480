{
 "cells": [
  {
   "cell_type": "code",
   "execution_count": 31,
   "id": "17e929f9",
   "metadata": {},
   "outputs": [],
   "source": [
    "import subprocess\n",
    "import json\n",
    "import pandas as pd\n",
    "import numpy as np"
   ]
  },
  {
   "cell_type": "code",
   "execution_count": 5,
   "id": "d6c4fa39",
   "metadata": {},
   "outputs": [],
   "source": [
    "codemasters = [\"codemaster_glove_03\",\"codemaster_glove_05\",\"codemaster_glove_07\",\\\n",
    "               \"codemaster_w2v_03\",\"codemaster_w2v_05\",\"codemaster_w2v_07\"]\n",
    "cm_guessers = {\"codemaster_glove_03\":\"guesser_glove\",\"codemaster_glove_05\":\"guesser_glove\",\\\n",
    "               \"codemaster_glove_07\":\"guesser_glove\",\"codemaster_w2v_03\":\"guesser_w2v\",\\\n",
    "               \"codemaster_w2v_05\":\"guesser_w2v\",\"codemaster_w2v_07\":\"guesser_w2v\"}"
   ]
  },
  {
   "cell_type": "code",
   "execution_count": 27,
   "id": "db8766b2",
   "metadata": {},
   "outputs": [
    {
     "name": "stdout",
     "output_type": "stream",
     "text": [
      "python run_game.py players.codemaster_w2v_03.AICodemaster players.guesser_w2v.AIGuesser players.codemaster_glove_03.AICodemaster players.guesser_glove.AIGuesser --w2v players/GoogleNews-vectors-negative300.bin --wordnet ic-brown.dat --glove_cm players/glove.6B.50d.txt --glove_guesser players/glove.6B.100d.txt\n",
      "python run_game.py players.codemaster_w2v_03.AICodemaster players.guesser_w2v.AIGuesser players.codemaster_glove_05.AICodemaster players.guesser_glove.AIGuesser --w2v players/GoogleNews-vectors-negative300.bin --wordnet ic-brown.dat --glove_cm players/glove.6B.50d.txt --glove_guesser players/glove.6B.100d.txt\n",
      "python run_game.py players.codemaster_w2v_03.AICodemaster players.guesser_w2v.AIGuesser players.codemaster_glove_07.AICodemaster players.guesser_glove.AIGuesser --w2v players/GoogleNews-vectors-negative300.bin --wordnet ic-brown.dat --glove_cm players/glove.6B.50d.txt --glove_guesser players/glove.6B.100d.txt\n",
      "python run_game.py players.codemaster_w2v_03.AICodemaster players.guesser_w2v.AIGuesser players.codemaster_w2v_05.AICodemaster players.guesser_w2v.AIGuesser --w2v players/GoogleNews-vectors-negative300.bin --wordnet ic-brown.dat --glove_cm players/glove.6B.50d.txt --glove_guesser players/glove.6B.100d.txt\n",
      "python run_game.py players.codemaster_w2v_03.AICodemaster players.guesser_w2v.AIGuesser players.codemaster_w2v_07.AICodemaster players.guesser_w2v.AIGuesser --w2v players/GoogleNews-vectors-negative300.bin --wordnet ic-brown.dat --glove_cm players/glove.6B.50d.txt --glove_guesser players/glove.6B.100d.txt\n",
      "python run_game.py players.codemaster_w2v_05.AICodemaster players.guesser_w2v.AIGuesser players.codemaster_glove_03.AICodemaster players.guesser_glove.AIGuesser --w2v players/GoogleNews-vectors-negative300.bin --wordnet ic-brown.dat --glove_cm players/glove.6B.50d.txt --glove_guesser players/glove.6B.100d.txt\n",
      "python run_game.py players.codemaster_w2v_05.AICodemaster players.guesser_w2v.AIGuesser players.codemaster_glove_05.AICodemaster players.guesser_glove.AIGuesser --w2v players/GoogleNews-vectors-negative300.bin --wordnet ic-brown.dat --glove_cm players/glove.6B.50d.txt --glove_guesser players/glove.6B.100d.txt\n",
      "python run_game.py players.codemaster_w2v_05.AICodemaster players.guesser_w2v.AIGuesser players.codemaster_glove_07.AICodemaster players.guesser_glove.AIGuesser --w2v players/GoogleNews-vectors-negative300.bin --wordnet ic-brown.dat --glove_cm players/glove.6B.50d.txt --glove_guesser players/glove.6B.100d.txt\n",
      "python run_game.py players.codemaster_w2v_05.AICodemaster players.guesser_w2v.AIGuesser players.codemaster_w2v_03.AICodemaster players.guesser_w2v.AIGuesser --w2v players/GoogleNews-vectors-negative300.bin --wordnet ic-brown.dat --glove_cm players/glove.6B.50d.txt --glove_guesser players/glove.6B.100d.txt\n",
      "python run_game.py players.codemaster_w2v_05.AICodemaster players.guesser_w2v.AIGuesser players.codemaster_w2v_07.AICodemaster players.guesser_w2v.AIGuesser --w2v players/GoogleNews-vectors-negative300.bin --wordnet ic-brown.dat --glove_cm players/glove.6B.50d.txt --glove_guesser players/glove.6B.100d.txt\n",
      "python run_game.py players.codemaster_w2v_07.AICodemaster players.guesser_w2v.AIGuesser players.codemaster_glove_03.AICodemaster players.guesser_glove.AIGuesser --w2v players/GoogleNews-vectors-negative300.bin --wordnet ic-brown.dat --glove_cm players/glove.6B.50d.txt --glove_guesser players/glove.6B.100d.txt\n",
      "python run_game.py players.codemaster_w2v_07.AICodemaster players.guesser_w2v.AIGuesser players.codemaster_glove_05.AICodemaster players.guesser_glove.AIGuesser --w2v players/GoogleNews-vectors-negative300.bin --wordnet ic-brown.dat --glove_cm players/glove.6B.50d.txt --glove_guesser players/glove.6B.100d.txt\n",
      "python run_game.py players.codemaster_w2v_07.AICodemaster players.guesser_w2v.AIGuesser players.codemaster_glove_07.AICodemaster players.guesser_glove.AIGuesser --w2v players/GoogleNews-vectors-negative300.bin --wordnet ic-brown.dat --glove_cm players/glove.6B.50d.txt --glove_guesser players/glove.6B.100d.txt\n",
      "python run_game.py players.codemaster_w2v_07.AICodemaster players.guesser_w2v.AIGuesser players.codemaster_w2v_03.AICodemaster players.guesser_w2v.AIGuesser --w2v players/GoogleNews-vectors-negative300.bin --wordnet ic-brown.dat --glove_cm players/glove.6B.50d.txt --glove_guesser players/glove.6B.100d.txt\n",
      "python run_game.py players.codemaster_w2v_07.AICodemaster players.guesser_w2v.AIGuesser players.codemaster_w2v_05.AICodemaster players.guesser_w2v.AIGuesser --w2v players/GoogleNews-vectors-negative300.bin --wordnet ic-brown.dat --glove_cm players/glove.6B.50d.txt --glove_guesser players/glove.6B.100d.txt\n"
     ]
    }
   ],
   "source": [
    "for cm1 in codemasters:\n",
    "    g1 = cm_guessers[cm1]\n",
    "    for cm2 in codemasters:\n",
    "        if cm1 != cm2 and g1 != \"guesser_glove\":\n",
    "            g2 = cm_guessers[cm2]\n",
    "            cmd_line = [\"python\",\"run_game.py\",f\"players.{cm1}.AICodemaster\",f\"players.{g1}.AIGuesser\",\\\n",
    "                        f\"players.{cm2}.AICodemaster\", f\"players.{g2}.AIGuesser\", \\\n",
    "                        \"--w2v\", \"players/GoogleNews-vectors-negative300.bin\",\\\n",
    "                        \"--wordnet\", \"ic-brown.dat\", \"--glove_cm\", \"players/glove.6B.50d.txt\", \\\n",
    "                        \"--glove_guesser\", \"players/glove.6B.100d.txt\"]\n",
    "            print(\" \".join(cmd_line))\n",
    "            subprocess.check_output(cmd_line)"
   ]
  },
  {
   "cell_type": "code",
   "execution_count": 23,
   "id": "9a49ca10",
   "metadata": {},
   "outputs": [],
   "source": [
    "class Result:\n",
    "    def __init__(self):\n",
    "        self.total = 0\n",
    "        self.blue = 0\n",
    "        self.red = 0\n",
    "    \n",
    "    def record_win(self, color):\n",
    "        self.total += 1\n",
    "        if color == \"Blue\":\n",
    "            self.blue += 1\n",
    "        else:\n",
    "            self.red += 1\n",
    "            \n",
    "    def __repr__(self):\n",
    "        return f\"Total: {self.total} Blue Wins: {self.blue} Red Wins: {self.red}\""
   ]
  },
  {
   "cell_type": "code",
   "execution_count": 38,
   "id": "8c1ad3d8",
   "metadata": {},
   "outputs": [
    {
     "name": "stdout",
     "output_type": "stream",
     "text": [
      "{('codemaster_glove_03', 'codemaster_glove_05'): Total: 1 Blue Wins: 1 Red Wins: 0, ('codemaster_glove_03', 'codemaster_glove_07'): Total: 1 Blue Wins: 1 Red Wins: 0, ('codemaster_glove_03', 'codemaster_w2v_03'): Total: 1 Blue Wins: 1 Red Wins: 0, ('codemaster_glove_03', 'codemaster_w2v_05'): Total: 1 Blue Wins: 1 Red Wins: 0, ('codemaster_glove_03', 'codemaster_w2v_07'): Total: 1 Blue Wins: 1 Red Wins: 0, ('codemaster_glove_05', 'codemaster_glove_03'): Total: 1 Blue Wins: 1 Red Wins: 0, ('codemaster_glove_05', 'codemaster_glove_07'): Total: 1 Blue Wins: 0 Red Wins: 1, ('codemaster_glove_05', 'codemaster_w2v_03'): Total: 1 Blue Wins: 0 Red Wins: 1, ('codemaster_glove_05', 'codemaster_w2v_05'): Total: 1 Blue Wins: 1 Red Wins: 0, ('codemaster_glove_05', 'codemaster_w2v_07'): Total: 1 Blue Wins: 0 Red Wins: 1, ('codemaster_glove_07', 'codemaster_glove_03'): Total: 1 Blue Wins: 1 Red Wins: 0, ('codemaster_glove_07', 'codemaster_glove_05'): Total: 1 Blue Wins: 1 Red Wins: 0, ('codemaster_glove_07', 'codemaster_w2v_03'): Total: 1 Blue Wins: 0 Red Wins: 1, ('codemaster_glove_07', 'codemaster_w2v_05'): Total: 1 Blue Wins: 0 Red Wins: 1, ('codemaster_glove_07', 'codemaster_w2v_07'): Total: 1 Blue Wins: 0 Red Wins: 1, ('codemaster_w2v_03', 'codemaster_glove_03'): Total: 1 Blue Wins: 1 Red Wins: 0, ('codemaster_w2v_03', 'codemaster_glove_05'): Total: 1 Blue Wins: 1 Red Wins: 0, ('codemaster_w2v_03', 'codemaster_glove_07'): Total: 1 Blue Wins: 0 Red Wins: 1, ('codemaster_w2v_03', 'codemaster_w2v_05'): Total: 1 Blue Wins: 1 Red Wins: 0, ('codemaster_w2v_03', 'codemaster_w2v_07'): Total: 1 Blue Wins: 1 Red Wins: 0, ('codemaster_w2v_05', 'codemaster_glove_03'): Total: 1 Blue Wins: 0 Red Wins: 1, ('codemaster_w2v_05', 'codemaster_glove_05'): Total: 1 Blue Wins: 1 Red Wins: 0, ('codemaster_w2v_05', 'codemaster_glove_07'): Total: 1 Blue Wins: 1 Red Wins: 0, ('codemaster_w2v_05', 'codemaster_w2v_03'): Total: 1 Blue Wins: 0 Red Wins: 1, ('codemaster_w2v_05', 'codemaster_w2v_07'): Total: 1 Blue Wins: 1 Red Wins: 0, ('codemaster_w2v_07', 'codemaster_glove_03'): Total: 1 Blue Wins: 0 Red Wins: 1, ('codemaster_w2v_07', 'codemaster_glove_05'): Total: 1 Blue Wins: 1 Red Wins: 0, ('codemaster_w2v_07', 'codemaster_glove_07'): Total: 1 Blue Wins: 0 Red Wins: 1, ('codemaster_w2v_07', 'codemaster_w2v_03'): Total: 1 Blue Wins: 0 Red Wins: 1, ('codemaster_w2v_07', 'codemaster_w2v_05'): Total: 1 Blue Wins: 0 Red Wins: 1}\n"
     ]
    }
   ],
   "source": [
    "results = {}\n",
    "for cm1 in codemasters:\n",
    "    for cm2 in codemasters:\n",
    "        if cm1 != cm2:\n",
    "            results[(cm1,cm2)] = Result()\n",
    "with open(\"results/bot_results_new_style.txt\", \"r\") as f:\n",
    "    line = f.readline()\n",
    "    while line:\n",
    "        results_dict = json.loads(line)\n",
    "        red_cm = results_dict[\"red_codemaster\"]\n",
    "        blue_cm = results_dict[\"blue_codemaster\"]\n",
    "        results[(red_cm, blue_cm)].record_win(results_dict[\"winner\"])\n",
    "        line = f.readline()\n",
    "print(results)"
   ]
  },
  {
   "cell_type": "code",
   "execution_count": 44,
   "id": "64d4ab7d",
   "metadata": {},
   "outputs": [
    {
     "data": {
      "text/html": [
       "<div>\n",
       "<style scoped>\n",
       "    .dataframe tbody tr th:only-of-type {\n",
       "        vertical-align: middle;\n",
       "    }\n",
       "\n",
       "    .dataframe tbody tr th {\n",
       "        vertical-align: top;\n",
       "    }\n",
       "\n",
       "    .dataframe thead th {\n",
       "        text-align: right;\n",
       "    }\n",
       "</style>\n",
       "<table border=\"1\" class=\"dataframe\">\n",
       "  <thead>\n",
       "    <tr style=\"text-align: right;\">\n",
       "      <th></th>\n",
       "      <th>codemaster_glove_03</th>\n",
       "      <th>codemaster_glove_05</th>\n",
       "      <th>codemaster_glove_07</th>\n",
       "      <th>codemaster_w2v_03</th>\n",
       "      <th>codemaster_w2v_05</th>\n",
       "      <th>codemaster_w2v_07</th>\n",
       "    </tr>\n",
       "  </thead>\n",
       "  <tbody>\n",
       "    <tr>\n",
       "      <th>codemaster_glove_03</th>\n",
       "      <td>NaN</td>\n",
       "      <td>(0.0, 1.0)</td>\n",
       "      <td>(0.0, 1.0)</td>\n",
       "      <td>(0.0, 1.0)</td>\n",
       "      <td>(1.0, 0.0)</td>\n",
       "      <td>(1.0, 0.0)</td>\n",
       "    </tr>\n",
       "    <tr>\n",
       "      <th>codemaster_glove_05</th>\n",
       "      <td>(0.0, 1.0)</td>\n",
       "      <td>NaN</td>\n",
       "      <td>(0.0, 1.0)</td>\n",
       "      <td>(0.0, 1.0)</td>\n",
       "      <td>(0.0, 1.0)</td>\n",
       "      <td>(0.0, 1.0)</td>\n",
       "    </tr>\n",
       "    <tr>\n",
       "      <th>codemaster_glove_07</th>\n",
       "      <td>(0.0, 1.0)</td>\n",
       "      <td>(1.0, 0.0)</td>\n",
       "      <td>NaN</td>\n",
       "      <td>(1.0, 0.0)</td>\n",
       "      <td>(0.0, 1.0)</td>\n",
       "      <td>(1.0, 0.0)</td>\n",
       "    </tr>\n",
       "    <tr>\n",
       "      <th>codemaster_w2v_03</th>\n",
       "      <td>(0.0, 1.0)</td>\n",
       "      <td>(1.0, 0.0)</td>\n",
       "      <td>(1.0, 0.0)</td>\n",
       "      <td>NaN</td>\n",
       "      <td>(1.0, 0.0)</td>\n",
       "      <td>(1.0, 0.0)</td>\n",
       "    </tr>\n",
       "    <tr>\n",
       "      <th>codemaster_w2v_05</th>\n",
       "      <td>(0.0, 1.0)</td>\n",
       "      <td>(0.0, 1.0)</td>\n",
       "      <td>(1.0, 0.0)</td>\n",
       "      <td>(0.0, 1.0)</td>\n",
       "      <td>NaN</td>\n",
       "      <td>(1.0, 0.0)</td>\n",
       "    </tr>\n",
       "    <tr>\n",
       "      <th>codemaster_w2v_07</th>\n",
       "      <td>(0.0, 1.0)</td>\n",
       "      <td>(1.0, 0.0)</td>\n",
       "      <td>(1.0, 0.0)</td>\n",
       "      <td>(0.0, 1.0)</td>\n",
       "      <td>(0.0, 1.0)</td>\n",
       "      <td>NaN</td>\n",
       "    </tr>\n",
       "  </tbody>\n",
       "</table>\n",
       "</div>"
      ],
      "text/plain": [
       "                    codemaster_glove_03 codemaster_glove_05  \\\n",
       "codemaster_glove_03                 NaN          (0.0, 1.0)   \n",
       "codemaster_glove_05          (0.0, 1.0)                 NaN   \n",
       "codemaster_glove_07          (0.0, 1.0)          (1.0, 0.0)   \n",
       "codemaster_w2v_03            (0.0, 1.0)          (1.0, 0.0)   \n",
       "codemaster_w2v_05            (0.0, 1.0)          (0.0, 1.0)   \n",
       "codemaster_w2v_07            (0.0, 1.0)          (1.0, 0.0)   \n",
       "\n",
       "                    codemaster_glove_07 codemaster_w2v_03 codemaster_w2v_05  \\\n",
       "codemaster_glove_03          (0.0, 1.0)        (0.0, 1.0)        (1.0, 0.0)   \n",
       "codemaster_glove_05          (0.0, 1.0)        (0.0, 1.0)        (0.0, 1.0)   \n",
       "codemaster_glove_07                 NaN        (1.0, 0.0)        (0.0, 1.0)   \n",
       "codemaster_w2v_03            (1.0, 0.0)               NaN        (1.0, 0.0)   \n",
       "codemaster_w2v_05            (1.0, 0.0)        (0.0, 1.0)               NaN   \n",
       "codemaster_w2v_07            (1.0, 0.0)        (0.0, 1.0)        (0.0, 1.0)   \n",
       "\n",
       "                    codemaster_w2v_07  \n",
       "codemaster_glove_03        (1.0, 0.0)  \n",
       "codemaster_glove_05        (0.0, 1.0)  \n",
       "codemaster_glove_07        (1.0, 0.0)  \n",
       "codemaster_w2v_03          (1.0, 0.0)  \n",
       "codemaster_w2v_05          (1.0, 0.0)  \n",
       "codemaster_w2v_07                 NaN  "
      ]
     },
     "execution_count": 44,
     "metadata": {},
     "output_type": "execute_result"
    }
   ],
   "source": [
    "winning_matrix = pd.DataFrame(index=codemasters, columns=codemasters)\n",
    "for (cm1, cm2) in results.keys():\n",
    "    result = results[(cm1, cm2)]\n",
    "    winning_matrix[cm1][cm2] = (result.red/result.total, result.blue/result.total)\n",
    "winning_matrix"
   ]
  },
  {
   "cell_type": "code",
   "execution_count": 42,
   "id": "9ce02dfc",
   "metadata": {},
   "outputs": [
    {
     "name": "stdout",
     "output_type": "stream",
     "text": [
      "(13, 17, 30)\n"
     ]
    }
   ],
   "source": [
    "reds = 0\n",
    "blues = 0\n",
    "total = 0\n",
    "for r in results.values():\n",
    "    reds += r.red\n",
    "    blues += r.blue\n",
    "    total += r.total\n",
    "print((reds, blues, total))"
   ]
  },
  {
   "cell_type": "code",
   "execution_count": null,
   "id": "cc877d30",
   "metadata": {},
   "outputs": [],
   "source": []
  }
 ],
 "metadata": {
  "kernelspec": {
   "display_name": "Python 3",
   "language": "python",
   "name": "python3"
  },
  "language_info": {
   "codemirror_mode": {
    "name": "ipython",
    "version": 3
   },
   "file_extension": ".py",
   "mimetype": "text/x-python",
   "name": "python",
   "nbconvert_exporter": "python",
   "pygments_lexer": "ipython3",
   "version": "3.8.8"
  }
 },
 "nbformat": 4,
 "nbformat_minor": 5
}
